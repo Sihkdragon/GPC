{
 "cells": [
  {
   "cell_type": "code",
   "execution_count": 1,
   "id": "577ed577",
   "metadata": {},
   "outputs": [],
   "source": [
    "# import open cv \n",
    "import cv2\n",
    "import numpy as np"
   ]
  },
  {
   "cell_type": "code",
   "execution_count": 2,
   "id": "b3b26e91",
   "metadata": {},
   "outputs": [],
   "source": [
    "# Membaca file\n",
    "file ='1.jpg'\n",
    "image = cv2.imread(file)"
   ]
  },
  {
   "cell_type": "code",
   "execution_count": 3,
   "id": "e57d20cf",
   "metadata": {},
   "outputs": [],
   "source": [
    "# Pesan Error jika gambar tidak ada\n",
    "if image is None:\n",
    "    print('Could not read image')"
   ]
  },
  {
   "cell_type": "code",
   "execution_count": 10,
   "id": "00ec93b6",
   "metadata": {},
   "outputs": [],
   "source": [
    "# Mengaplikasikan filter blur \n",
    "kernel2 = np.ones((5,5), np.float32) / 25\n",
    "img = cv2.filter2D(image, -1, kernel2)"
   ]
  },
  {
   "cell_type": "code",
   "execution_count": 11,
   "id": "59f34939",
   "metadata": {},
   "outputs": [],
   "source": [
    "# Menampilkan perbandingan dengan gambar asli \n",
    "cv2.imshow(\"original\", image)\n",
    "cv2.imshow('Blur Effect', img)\n",
    "cv2.waitKey()\n",
    "cv2.imwrite('blur_image.jpg',img)\n",
    "cv2.destroyAllWindows()"
   ]
  }
 ],
 "metadata": {
  "kernelspec": {
   "display_name": "Python 3 (ipykernel)",
   "language": "python",
   "name": "python3"
  },
  "language_info": {
   "codemirror_mode": {
    "name": "ipython",
    "version": 3
   },
   "file_extension": ".py",
   "mimetype": "text/x-python",
   "name": "python",
   "nbconvert_exporter": "python",
   "pygments_lexer": "ipython3",
   "version": "3.10.2"
  }
 },
 "nbformat": 4,
 "nbformat_minor": 5
}
